{
 "metadata": {
  "language_info": {
   "codemirror_mode": {
    "name": "ipython",
    "version": 3
   },
   "file_extension": ".py",
   "mimetype": "text/x-python",
   "name": "python",
   "nbconvert_exporter": "python",
   "pygments_lexer": "ipython3",
   "version": "3.9.2-final"
  },
  "orig_nbformat": 2,
  "kernelspec": {
   "name": "python3",
   "display_name": "Python 3.9.2 64-bit",
   "metadata": {
    "interpreter": {
     "hash": "4968616242b12205732e0bb9392dd184d3a0818a6aa7d3a096f6e3a74afccf42"
    }
   }
  }
 },
 "nbformat": 4,
 "nbformat_minor": 2,
 "cells": [
  {
   "cell_type": "code",
   "execution_count": 3,
   "metadata": {},
   "outputs": [],
   "source": [
    "import pandas as pd"
   ]
  },
  {
   "source": [
    "## Confirmed cases"
   ],
   "cell_type": "markdown",
   "metadata": {}
  },
  {
   "cell_type": "code",
   "execution_count": 4,
   "metadata": {},
   "outputs": [
    {
     "output_type": "execute_result",
     "data": {
      "text/plain": [
       "  Province/State Country/Region       Lat       Long  1/22/20  1/23/20  \\\n",
       "0            NaN    Afghanistan  33.93911  67.709953        0        0   \n",
       "1            NaN        Albania  41.15330  20.168300        0        0   \n",
       "2            NaN        Algeria  28.03390   1.659600        0        0   \n",
       "3            NaN        Andorra  42.50630   1.521800        0        0   \n",
       "4            NaN         Angola -11.20270  17.873900        0        0   \n",
       "\n",
       "   1/24/20  1/25/20  1/26/20  1/27/20  ...  2/15/21  2/16/21  2/17/21  \\\n",
       "0        0        0        0        0  ...    55514    55518    55540   \n",
       "1        0        0        0        0  ...    93850    94651    95726   \n",
       "2        0        0        0        0  ...   110894   111069   111247   \n",
       "3        0        0        0        0  ...    10538    10555    10583   \n",
       "4        0        0        0        0  ...    20381    20389    20400   \n",
       "\n",
       "   2/18/21  2/19/21  2/20/21  2/21/21  2/22/21  2/23/21  2/24/21  \n",
       "0    55557    55575    55580    55604    55617    55646    55664  \n",
       "1    96838    97909    99062   100246   101285   102306   103327  \n",
       "2   111418   111600   111764   111917   112094   112279   112461  \n",
       "3    10610    10645    10672    10699    10712    10739    10775  \n",
       "4    20452    20478    20499    20519    20548    20584    20640  \n",
       "\n",
       "[5 rows x 404 columns]"
      ],
      "text/html": "<div>\n<style scoped>\n    .dataframe tbody tr th:only-of-type {\n        vertical-align: middle;\n    }\n\n    .dataframe tbody tr th {\n        vertical-align: top;\n    }\n\n    .dataframe thead th {\n        text-align: right;\n    }\n</style>\n<table border=\"1\" class=\"dataframe\">\n  <thead>\n    <tr style=\"text-align: right;\">\n      <th></th>\n      <th>Province/State</th>\n      <th>Country/Region</th>\n      <th>Lat</th>\n      <th>Long</th>\n      <th>1/22/20</th>\n      <th>1/23/20</th>\n      <th>1/24/20</th>\n      <th>1/25/20</th>\n      <th>1/26/20</th>\n      <th>1/27/20</th>\n      <th>...</th>\n      <th>2/15/21</th>\n      <th>2/16/21</th>\n      <th>2/17/21</th>\n      <th>2/18/21</th>\n      <th>2/19/21</th>\n      <th>2/20/21</th>\n      <th>2/21/21</th>\n      <th>2/22/21</th>\n      <th>2/23/21</th>\n      <th>2/24/21</th>\n    </tr>\n  </thead>\n  <tbody>\n    <tr>\n      <th>0</th>\n      <td>NaN</td>\n      <td>Afghanistan</td>\n      <td>33.93911</td>\n      <td>67.709953</td>\n      <td>0</td>\n      <td>0</td>\n      <td>0</td>\n      <td>0</td>\n      <td>0</td>\n      <td>0</td>\n      <td>...</td>\n      <td>55514</td>\n      <td>55518</td>\n      <td>55540</td>\n      <td>55557</td>\n      <td>55575</td>\n      <td>55580</td>\n      <td>55604</td>\n      <td>55617</td>\n      <td>55646</td>\n      <td>55664</td>\n    </tr>\n    <tr>\n      <th>1</th>\n      <td>NaN</td>\n      <td>Albania</td>\n      <td>41.15330</td>\n      <td>20.168300</td>\n      <td>0</td>\n      <td>0</td>\n      <td>0</td>\n      <td>0</td>\n      <td>0</td>\n      <td>0</td>\n      <td>...</td>\n      <td>93850</td>\n      <td>94651</td>\n      <td>95726</td>\n      <td>96838</td>\n      <td>97909</td>\n      <td>99062</td>\n      <td>100246</td>\n      <td>101285</td>\n      <td>102306</td>\n      <td>103327</td>\n    </tr>\n    <tr>\n      <th>2</th>\n      <td>NaN</td>\n      <td>Algeria</td>\n      <td>28.03390</td>\n      <td>1.659600</td>\n      <td>0</td>\n      <td>0</td>\n      <td>0</td>\n      <td>0</td>\n      <td>0</td>\n      <td>0</td>\n      <td>...</td>\n      <td>110894</td>\n      <td>111069</td>\n      <td>111247</td>\n      <td>111418</td>\n      <td>111600</td>\n      <td>111764</td>\n      <td>111917</td>\n      <td>112094</td>\n      <td>112279</td>\n      <td>112461</td>\n    </tr>\n    <tr>\n      <th>3</th>\n      <td>NaN</td>\n      <td>Andorra</td>\n      <td>42.50630</td>\n      <td>1.521800</td>\n      <td>0</td>\n      <td>0</td>\n      <td>0</td>\n      <td>0</td>\n      <td>0</td>\n      <td>0</td>\n      <td>...</td>\n      <td>10538</td>\n      <td>10555</td>\n      <td>10583</td>\n      <td>10610</td>\n      <td>10645</td>\n      <td>10672</td>\n      <td>10699</td>\n      <td>10712</td>\n      <td>10739</td>\n      <td>10775</td>\n    </tr>\n    <tr>\n      <th>4</th>\n      <td>NaN</td>\n      <td>Angola</td>\n      <td>-11.20270</td>\n      <td>17.873900</td>\n      <td>0</td>\n      <td>0</td>\n      <td>0</td>\n      <td>0</td>\n      <td>0</td>\n      <td>0</td>\n      <td>...</td>\n      <td>20381</td>\n      <td>20389</td>\n      <td>20400</td>\n      <td>20452</td>\n      <td>20478</td>\n      <td>20499</td>\n      <td>20519</td>\n      <td>20548</td>\n      <td>20584</td>\n      <td>20640</td>\n    </tr>\n  </tbody>\n</table>\n<p>5 rows × 404 columns</p>\n</div>"
     },
     "metadata": {},
     "execution_count": 4
    }
   ],
   "source": [
    "url_confirmed = \"https://raw.githubusercontent.com/CSSEGISandData/COVID-19/master/csse_covid_19_data/csse_covid_19_time_series/time_series_covid19_confirmed_global.csv\"\n",
    "confirmed = pd.read_csv(url_confirmed)\n",
    "confirmed.head()"
   ]
  },
  {
   "cell_type": "code",
   "execution_count": 5,
   "metadata": {},
   "outputs": [
    {
     "output_type": "execute_result",
     "data": {
      "text/plain": [
       "  Province/State Country/Region       Lat       Long     date  confirmed\n",
       "0            NaN    Afghanistan  33.93911  67.709953  1/22/20          0\n",
       "1            NaN        Albania  41.15330  20.168300  1/22/20          0\n",
       "2            NaN        Algeria  28.03390   1.659600  1/22/20          0\n",
       "3            NaN        Andorra  42.50630   1.521800  1/22/20          0\n",
       "4            NaN         Angola -11.20270  17.873900  1/22/20          0"
      ],
      "text/html": "<div>\n<style scoped>\n    .dataframe tbody tr th:only-of-type {\n        vertical-align: middle;\n    }\n\n    .dataframe tbody tr th {\n        vertical-align: top;\n    }\n\n    .dataframe thead th {\n        text-align: right;\n    }\n</style>\n<table border=\"1\" class=\"dataframe\">\n  <thead>\n    <tr style=\"text-align: right;\">\n      <th></th>\n      <th>Province/State</th>\n      <th>Country/Region</th>\n      <th>Lat</th>\n      <th>Long</th>\n      <th>date</th>\n      <th>confirmed</th>\n    </tr>\n  </thead>\n  <tbody>\n    <tr>\n      <th>0</th>\n      <td>NaN</td>\n      <td>Afghanistan</td>\n      <td>33.93911</td>\n      <td>67.709953</td>\n      <td>1/22/20</td>\n      <td>0</td>\n    </tr>\n    <tr>\n      <th>1</th>\n      <td>NaN</td>\n      <td>Albania</td>\n      <td>41.15330</td>\n      <td>20.168300</td>\n      <td>1/22/20</td>\n      <td>0</td>\n    </tr>\n    <tr>\n      <th>2</th>\n      <td>NaN</td>\n      <td>Algeria</td>\n      <td>28.03390</td>\n      <td>1.659600</td>\n      <td>1/22/20</td>\n      <td>0</td>\n    </tr>\n    <tr>\n      <th>3</th>\n      <td>NaN</td>\n      <td>Andorra</td>\n      <td>42.50630</td>\n      <td>1.521800</td>\n      <td>1/22/20</td>\n      <td>0</td>\n    </tr>\n    <tr>\n      <th>4</th>\n      <td>NaN</td>\n      <td>Angola</td>\n      <td>-11.20270</td>\n      <td>17.873900</td>\n      <td>1/22/20</td>\n      <td>0</td>\n    </tr>\n  </tbody>\n</table>\n</div>"
     },
     "metadata": {},
     "execution_count": 5
    }
   ],
   "source": [
    "total_confirmed = confirmed.melt(\n",
    "    id_vars = [\"Province/State\", \"Country/Region\", \"Lat\", \"Long\"],\n",
    "    value_vars = confirmed.columns[4:],\n",
    "    var_name = \"date\",\n",
    "    value_name = \"confirmed\"\n",
    ")\n",
    "total_confirmed.head()"
   ]
  },
  {
   "source": [
    "## Deaths"
   ],
   "cell_type": "markdown",
   "metadata": {}
  },
  {
   "cell_type": "code",
   "execution_count": 6,
   "metadata": {},
   "outputs": [
    {
     "output_type": "execute_result",
     "data": {
      "text/plain": [
       "  Province/State Country/Region       Lat       Long  1/22/20  1/23/20  \\\n",
       "0            NaN    Afghanistan  33.93911  67.709953        0        0   \n",
       "1            NaN        Albania  41.15330  20.168300        0        0   \n",
       "2            NaN        Algeria  28.03390   1.659600        0        0   \n",
       "3            NaN        Andorra  42.50630   1.521800        0        0   \n",
       "4            NaN         Angola -11.20270  17.873900        0        0   \n",
       "\n",
       "   1/24/20  1/25/20  1/26/20  1/27/20  ...  2/15/21  2/16/21  2/17/21  \\\n",
       "0        0        0        0        0  ...     2427     2428     2428   \n",
       "1        0        0        0        0  ...     1567     1582     1600   \n",
       "2        0        0        0        0  ...     2943     2945     2947   \n",
       "3        0        0        0        0  ...      107      107      107   \n",
       "4        0        0        0        0  ...      493      494      496   \n",
       "\n",
       "   2/18/21  2/19/21  2/20/21  2/21/21  2/22/21  2/23/21  2/24/21  \n",
       "0     2430     2430     2430     2432     2433     2435     2436  \n",
       "1     1617     1636     1653     1666     1681     1696     1715  \n",
       "2     2950     2954     2958     2961     2964     2967     2970  \n",
       "3      107      107      107      107      109      110      110  \n",
       "4      498      498      498      499      499      500      501  \n",
       "\n",
       "[5 rows x 404 columns]"
      ],
      "text/html": "<div>\n<style scoped>\n    .dataframe tbody tr th:only-of-type {\n        vertical-align: middle;\n    }\n\n    .dataframe tbody tr th {\n        vertical-align: top;\n    }\n\n    .dataframe thead th {\n        text-align: right;\n    }\n</style>\n<table border=\"1\" class=\"dataframe\">\n  <thead>\n    <tr style=\"text-align: right;\">\n      <th></th>\n      <th>Province/State</th>\n      <th>Country/Region</th>\n      <th>Lat</th>\n      <th>Long</th>\n      <th>1/22/20</th>\n      <th>1/23/20</th>\n      <th>1/24/20</th>\n      <th>1/25/20</th>\n      <th>1/26/20</th>\n      <th>1/27/20</th>\n      <th>...</th>\n      <th>2/15/21</th>\n      <th>2/16/21</th>\n      <th>2/17/21</th>\n      <th>2/18/21</th>\n      <th>2/19/21</th>\n      <th>2/20/21</th>\n      <th>2/21/21</th>\n      <th>2/22/21</th>\n      <th>2/23/21</th>\n      <th>2/24/21</th>\n    </tr>\n  </thead>\n  <tbody>\n    <tr>\n      <th>0</th>\n      <td>NaN</td>\n      <td>Afghanistan</td>\n      <td>33.93911</td>\n      <td>67.709953</td>\n      <td>0</td>\n      <td>0</td>\n      <td>0</td>\n      <td>0</td>\n      <td>0</td>\n      <td>0</td>\n      <td>...</td>\n      <td>2427</td>\n      <td>2428</td>\n      <td>2428</td>\n      <td>2430</td>\n      <td>2430</td>\n      <td>2430</td>\n      <td>2432</td>\n      <td>2433</td>\n      <td>2435</td>\n      <td>2436</td>\n    </tr>\n    <tr>\n      <th>1</th>\n      <td>NaN</td>\n      <td>Albania</td>\n      <td>41.15330</td>\n      <td>20.168300</td>\n      <td>0</td>\n      <td>0</td>\n      <td>0</td>\n      <td>0</td>\n      <td>0</td>\n      <td>0</td>\n      <td>...</td>\n      <td>1567</td>\n      <td>1582</td>\n      <td>1600</td>\n      <td>1617</td>\n      <td>1636</td>\n      <td>1653</td>\n      <td>1666</td>\n      <td>1681</td>\n      <td>1696</td>\n      <td>1715</td>\n    </tr>\n    <tr>\n      <th>2</th>\n      <td>NaN</td>\n      <td>Algeria</td>\n      <td>28.03390</td>\n      <td>1.659600</td>\n      <td>0</td>\n      <td>0</td>\n      <td>0</td>\n      <td>0</td>\n      <td>0</td>\n      <td>0</td>\n      <td>...</td>\n      <td>2943</td>\n      <td>2945</td>\n      <td>2947</td>\n      <td>2950</td>\n      <td>2954</td>\n      <td>2958</td>\n      <td>2961</td>\n      <td>2964</td>\n      <td>2967</td>\n      <td>2970</td>\n    </tr>\n    <tr>\n      <th>3</th>\n      <td>NaN</td>\n      <td>Andorra</td>\n      <td>42.50630</td>\n      <td>1.521800</td>\n      <td>0</td>\n      <td>0</td>\n      <td>0</td>\n      <td>0</td>\n      <td>0</td>\n      <td>0</td>\n      <td>...</td>\n      <td>107</td>\n      <td>107</td>\n      <td>107</td>\n      <td>107</td>\n      <td>107</td>\n      <td>107</td>\n      <td>107</td>\n      <td>109</td>\n      <td>110</td>\n      <td>110</td>\n    </tr>\n    <tr>\n      <th>4</th>\n      <td>NaN</td>\n      <td>Angola</td>\n      <td>-11.20270</td>\n      <td>17.873900</td>\n      <td>0</td>\n      <td>0</td>\n      <td>0</td>\n      <td>0</td>\n      <td>0</td>\n      <td>0</td>\n      <td>...</td>\n      <td>493</td>\n      <td>494</td>\n      <td>496</td>\n      <td>498</td>\n      <td>498</td>\n      <td>498</td>\n      <td>499</td>\n      <td>499</td>\n      <td>500</td>\n      <td>501</td>\n    </tr>\n  </tbody>\n</table>\n<p>5 rows × 404 columns</p>\n</div>"
     },
     "metadata": {},
     "execution_count": 6
    }
   ],
   "source": [
    "url_deaths = \"https://raw.githubusercontent.com/CSSEGISandData/COVID-19/master/csse_covid_19_data/csse_covid_19_time_series/time_series_covid19_deaths_global.csv\"\n",
    "deaths = pd.read_csv(url_deaths)\n",
    "deaths.head()"
   ]
  },
  {
   "cell_type": "code",
   "execution_count": 7,
   "metadata": {},
   "outputs": [
    {
     "output_type": "execute_result",
     "data": {
      "text/plain": [
       "  Province/State Country/Region       Lat       Long     date  deaths\n",
       "0            NaN    Afghanistan  33.93911  67.709953  1/22/20       0\n",
       "1            NaN        Albania  41.15330  20.168300  1/22/20       0\n",
       "2            NaN        Algeria  28.03390   1.659600  1/22/20       0\n",
       "3            NaN        Andorra  42.50630   1.521800  1/22/20       0\n",
       "4            NaN         Angola -11.20270  17.873900  1/22/20       0"
      ],
      "text/html": "<div>\n<style scoped>\n    .dataframe tbody tr th:only-of-type {\n        vertical-align: middle;\n    }\n\n    .dataframe tbody tr th {\n        vertical-align: top;\n    }\n\n    .dataframe thead th {\n        text-align: right;\n    }\n</style>\n<table border=\"1\" class=\"dataframe\">\n  <thead>\n    <tr style=\"text-align: right;\">\n      <th></th>\n      <th>Province/State</th>\n      <th>Country/Region</th>\n      <th>Lat</th>\n      <th>Long</th>\n      <th>date</th>\n      <th>deaths</th>\n    </tr>\n  </thead>\n  <tbody>\n    <tr>\n      <th>0</th>\n      <td>NaN</td>\n      <td>Afghanistan</td>\n      <td>33.93911</td>\n      <td>67.709953</td>\n      <td>1/22/20</td>\n      <td>0</td>\n    </tr>\n    <tr>\n      <th>1</th>\n      <td>NaN</td>\n      <td>Albania</td>\n      <td>41.15330</td>\n      <td>20.168300</td>\n      <td>1/22/20</td>\n      <td>0</td>\n    </tr>\n    <tr>\n      <th>2</th>\n      <td>NaN</td>\n      <td>Algeria</td>\n      <td>28.03390</td>\n      <td>1.659600</td>\n      <td>1/22/20</td>\n      <td>0</td>\n    </tr>\n    <tr>\n      <th>3</th>\n      <td>NaN</td>\n      <td>Andorra</td>\n      <td>42.50630</td>\n      <td>1.521800</td>\n      <td>1/22/20</td>\n      <td>0</td>\n    </tr>\n    <tr>\n      <th>4</th>\n      <td>NaN</td>\n      <td>Angola</td>\n      <td>-11.20270</td>\n      <td>17.873900</td>\n      <td>1/22/20</td>\n      <td>0</td>\n    </tr>\n  </tbody>\n</table>\n</div>"
     },
     "metadata": {},
     "execution_count": 7
    }
   ],
   "source": [
    "total_deaths = deaths.melt(\n",
    "    id_vars = [\"Province/State\", \"Country/Region\", \"Lat\", \"Long\"],\n",
    "    value_vars = deaths.columns[4:],\n",
    "    var_name = \"date\",\n",
    "    value_name = \"deaths\"\n",
    ")\n",
    "total_deaths.head()"
   ]
  },
  {
   "source": [
    "## Recovered cases"
   ],
   "cell_type": "markdown",
   "metadata": {}
  },
  {
   "cell_type": "code",
   "execution_count": 8,
   "metadata": {},
   "outputs": [
    {
     "output_type": "execute_result",
     "data": {
      "text/plain": [
       "  Province/State Country/Region       Lat       Long  1/22/20  1/23/20  \\\n",
       "0            NaN    Afghanistan  33.93911  67.709953        0        0   \n",
       "1            NaN        Albania  41.15330  20.168300        0        0   \n",
       "2            NaN        Algeria  28.03390   1.659600        0        0   \n",
       "3            NaN        Andorra  42.50630   1.521800        0        0   \n",
       "4            NaN         Angola -11.20270  17.873900        0        0   \n",
       "\n",
       "   1/24/20  1/25/20  1/26/20  1/27/20  ...  2/15/21  2/16/21  2/17/21  \\\n",
       "0        0        0        0        0  ...    48433    48514    48626   \n",
       "1        0        0        0        0  ...    57736    58794    59684   \n",
       "2        0        0        0        0  ...    76168    76330    76489   \n",
       "3        0        0        0        0  ...     9965    10022    10066   \n",
       "4        0        0        0        0  ...    18884    18929    18951   \n",
       "\n",
       "   2/18/21  2/19/21  2/20/21  2/21/21  2/22/21  2/23/21  2/24/21  \n",
       "0    48798    48803    48820    48834    48895    48967    49086  \n",
       "1    60675    61605    62533    63329    64318    65403    66309  \n",
       "2    76640    76797    76940    77076    77225    77382    77537  \n",
       "3    10101    10146    10170    10206    10245    10285    10319  \n",
       "4    18972    18991    19005    19013    19190    19207    19221  \n",
       "\n",
       "[5 rows x 404 columns]"
      ],
      "text/html": "<div>\n<style scoped>\n    .dataframe tbody tr th:only-of-type {\n        vertical-align: middle;\n    }\n\n    .dataframe tbody tr th {\n        vertical-align: top;\n    }\n\n    .dataframe thead th {\n        text-align: right;\n    }\n</style>\n<table border=\"1\" class=\"dataframe\">\n  <thead>\n    <tr style=\"text-align: right;\">\n      <th></th>\n      <th>Province/State</th>\n      <th>Country/Region</th>\n      <th>Lat</th>\n      <th>Long</th>\n      <th>1/22/20</th>\n      <th>1/23/20</th>\n      <th>1/24/20</th>\n      <th>1/25/20</th>\n      <th>1/26/20</th>\n      <th>1/27/20</th>\n      <th>...</th>\n      <th>2/15/21</th>\n      <th>2/16/21</th>\n      <th>2/17/21</th>\n      <th>2/18/21</th>\n      <th>2/19/21</th>\n      <th>2/20/21</th>\n      <th>2/21/21</th>\n      <th>2/22/21</th>\n      <th>2/23/21</th>\n      <th>2/24/21</th>\n    </tr>\n  </thead>\n  <tbody>\n    <tr>\n      <th>0</th>\n      <td>NaN</td>\n      <td>Afghanistan</td>\n      <td>33.93911</td>\n      <td>67.709953</td>\n      <td>0</td>\n      <td>0</td>\n      <td>0</td>\n      <td>0</td>\n      <td>0</td>\n      <td>0</td>\n      <td>...</td>\n      <td>48433</td>\n      <td>48514</td>\n      <td>48626</td>\n      <td>48798</td>\n      <td>48803</td>\n      <td>48820</td>\n      <td>48834</td>\n      <td>48895</td>\n      <td>48967</td>\n      <td>49086</td>\n    </tr>\n    <tr>\n      <th>1</th>\n      <td>NaN</td>\n      <td>Albania</td>\n      <td>41.15330</td>\n      <td>20.168300</td>\n      <td>0</td>\n      <td>0</td>\n      <td>0</td>\n      <td>0</td>\n      <td>0</td>\n      <td>0</td>\n      <td>...</td>\n      <td>57736</td>\n      <td>58794</td>\n      <td>59684</td>\n      <td>60675</td>\n      <td>61605</td>\n      <td>62533</td>\n      <td>63329</td>\n      <td>64318</td>\n      <td>65403</td>\n      <td>66309</td>\n    </tr>\n    <tr>\n      <th>2</th>\n      <td>NaN</td>\n      <td>Algeria</td>\n      <td>28.03390</td>\n      <td>1.659600</td>\n      <td>0</td>\n      <td>0</td>\n      <td>0</td>\n      <td>0</td>\n      <td>0</td>\n      <td>0</td>\n      <td>...</td>\n      <td>76168</td>\n      <td>76330</td>\n      <td>76489</td>\n      <td>76640</td>\n      <td>76797</td>\n      <td>76940</td>\n      <td>77076</td>\n      <td>77225</td>\n      <td>77382</td>\n      <td>77537</td>\n    </tr>\n    <tr>\n      <th>3</th>\n      <td>NaN</td>\n      <td>Andorra</td>\n      <td>42.50630</td>\n      <td>1.521800</td>\n      <td>0</td>\n      <td>0</td>\n      <td>0</td>\n      <td>0</td>\n      <td>0</td>\n      <td>0</td>\n      <td>...</td>\n      <td>9965</td>\n      <td>10022</td>\n      <td>10066</td>\n      <td>10101</td>\n      <td>10146</td>\n      <td>10170</td>\n      <td>10206</td>\n      <td>10245</td>\n      <td>10285</td>\n      <td>10319</td>\n    </tr>\n    <tr>\n      <th>4</th>\n      <td>NaN</td>\n      <td>Angola</td>\n      <td>-11.20270</td>\n      <td>17.873900</td>\n      <td>0</td>\n      <td>0</td>\n      <td>0</td>\n      <td>0</td>\n      <td>0</td>\n      <td>0</td>\n      <td>...</td>\n      <td>18884</td>\n      <td>18929</td>\n      <td>18951</td>\n      <td>18972</td>\n      <td>18991</td>\n      <td>19005</td>\n      <td>19013</td>\n      <td>19190</td>\n      <td>19207</td>\n      <td>19221</td>\n    </tr>\n  </tbody>\n</table>\n<p>5 rows × 404 columns</p>\n</div>"
     },
     "metadata": {},
     "execution_count": 8
    }
   ],
   "source": [
    "url_recovered = \"https://raw.githubusercontent.com/CSSEGISandData/COVID-19/master/csse_covid_19_data/csse_covid_19_time_series/time_series_covid19_recovered_global.csv\"\n",
    "recovered = pd.read_csv(url_recovered)\n",
    "recovered.head()"
   ]
  },
  {
   "cell_type": "code",
   "execution_count": 9,
   "metadata": {},
   "outputs": [
    {
     "output_type": "execute_result",
     "data": {
      "text/plain": [
       "  Province/State Country/Region       Lat       Long     date  recovered\n",
       "0            NaN    Afghanistan  33.93911  67.709953  1/22/20          0\n",
       "1            NaN        Albania  41.15330  20.168300  1/22/20          0\n",
       "2            NaN        Algeria  28.03390   1.659600  1/22/20          0\n",
       "3            NaN        Andorra  42.50630   1.521800  1/22/20          0\n",
       "4            NaN         Angola -11.20270  17.873900  1/22/20          0"
      ],
      "text/html": "<div>\n<style scoped>\n    .dataframe tbody tr th:only-of-type {\n        vertical-align: middle;\n    }\n\n    .dataframe tbody tr th {\n        vertical-align: top;\n    }\n\n    .dataframe thead th {\n        text-align: right;\n    }\n</style>\n<table border=\"1\" class=\"dataframe\">\n  <thead>\n    <tr style=\"text-align: right;\">\n      <th></th>\n      <th>Province/State</th>\n      <th>Country/Region</th>\n      <th>Lat</th>\n      <th>Long</th>\n      <th>date</th>\n      <th>recovered</th>\n    </tr>\n  </thead>\n  <tbody>\n    <tr>\n      <th>0</th>\n      <td>NaN</td>\n      <td>Afghanistan</td>\n      <td>33.93911</td>\n      <td>67.709953</td>\n      <td>1/22/20</td>\n      <td>0</td>\n    </tr>\n    <tr>\n      <th>1</th>\n      <td>NaN</td>\n      <td>Albania</td>\n      <td>41.15330</td>\n      <td>20.168300</td>\n      <td>1/22/20</td>\n      <td>0</td>\n    </tr>\n    <tr>\n      <th>2</th>\n      <td>NaN</td>\n      <td>Algeria</td>\n      <td>28.03390</td>\n      <td>1.659600</td>\n      <td>1/22/20</td>\n      <td>0</td>\n    </tr>\n    <tr>\n      <th>3</th>\n      <td>NaN</td>\n      <td>Andorra</td>\n      <td>42.50630</td>\n      <td>1.521800</td>\n      <td>1/22/20</td>\n      <td>0</td>\n    </tr>\n    <tr>\n      <th>4</th>\n      <td>NaN</td>\n      <td>Angola</td>\n      <td>-11.20270</td>\n      <td>17.873900</td>\n      <td>1/22/20</td>\n      <td>0</td>\n    </tr>\n  </tbody>\n</table>\n</div>"
     },
     "metadata": {},
     "execution_count": 9
    }
   ],
   "source": [
    "total_recovered = recovered.melt(\n",
    "    id_vars = [\"Province/State\", \"Country/Region\", \"Lat\", \"Long\"],\n",
    "    value_vars = recovered.columns[4:],\n",
    "    var_name = \"date\",\n",
    "    value_name = \"recovered\"\n",
    ")\n",
    "total_recovered.head()"
   ]
  },
  {
   "source": [
    "## Merge data frames"
   ],
   "cell_type": "markdown",
   "metadata": {}
  },
  {
   "cell_type": "code",
   "execution_count": 10,
   "metadata": {},
   "outputs": [
    {
     "output_type": "execute_result",
     "data": {
      "text/plain": [
       "  Province/State Country/Region       Lat       Long     date  confirmed  \\\n",
       "0            NaN    Afghanistan  33.93911  67.709953  1/22/20          0   \n",
       "1            NaN        Albania  41.15330  20.168300  1/22/20          0   \n",
       "2            NaN        Algeria  28.03390   1.659600  1/22/20          0   \n",
       "3            NaN        Andorra  42.50630   1.521800  1/22/20          0   \n",
       "4            NaN         Angola -11.20270  17.873900  1/22/20          0   \n",
       "\n",
       "   deaths  recovered  \n",
       "0       0        0.0  \n",
       "1       0        0.0  \n",
       "2       0        0.0  \n",
       "3       0        0.0  \n",
       "4       0        0.0  "
      ],
      "text/html": "<div>\n<style scoped>\n    .dataframe tbody tr th:only-of-type {\n        vertical-align: middle;\n    }\n\n    .dataframe tbody tr th {\n        vertical-align: top;\n    }\n\n    .dataframe thead th {\n        text-align: right;\n    }\n</style>\n<table border=\"1\" class=\"dataframe\">\n  <thead>\n    <tr style=\"text-align: right;\">\n      <th></th>\n      <th>Province/State</th>\n      <th>Country/Region</th>\n      <th>Lat</th>\n      <th>Long</th>\n      <th>date</th>\n      <th>confirmed</th>\n      <th>deaths</th>\n      <th>recovered</th>\n    </tr>\n  </thead>\n  <tbody>\n    <tr>\n      <th>0</th>\n      <td>NaN</td>\n      <td>Afghanistan</td>\n      <td>33.93911</td>\n      <td>67.709953</td>\n      <td>1/22/20</td>\n      <td>0</td>\n      <td>0</td>\n      <td>0.0</td>\n    </tr>\n    <tr>\n      <th>1</th>\n      <td>NaN</td>\n      <td>Albania</td>\n      <td>41.15330</td>\n      <td>20.168300</td>\n      <td>1/22/20</td>\n      <td>0</td>\n      <td>0</td>\n      <td>0.0</td>\n    </tr>\n    <tr>\n      <th>2</th>\n      <td>NaN</td>\n      <td>Algeria</td>\n      <td>28.03390</td>\n      <td>1.659600</td>\n      <td>1/22/20</td>\n      <td>0</td>\n      <td>0</td>\n      <td>0.0</td>\n    </tr>\n    <tr>\n      <th>3</th>\n      <td>NaN</td>\n      <td>Andorra</td>\n      <td>42.50630</td>\n      <td>1.521800</td>\n      <td>1/22/20</td>\n      <td>0</td>\n      <td>0</td>\n      <td>0.0</td>\n    </tr>\n    <tr>\n      <th>4</th>\n      <td>NaN</td>\n      <td>Angola</td>\n      <td>-11.20270</td>\n      <td>17.873900</td>\n      <td>1/22/20</td>\n      <td>0</td>\n      <td>0</td>\n      <td>0.0</td>\n    </tr>\n  </tbody>\n</table>\n</div>"
     },
     "metadata": {},
     "execution_count": 10
    }
   ],
   "source": [
    "covid_data = total_confirmed.merge(\n",
    "    right = total_deaths,\n",
    "    how = \"left\",\n",
    "    on = [\"Province/State\", \"Country/Region\", \"date\", \"Lat\", \"Long\"]\n",
    ").merge(\n",
    "    right = total_recovered,\n",
    "    how = \"left\",\n",
    "    on = [\"Province/State\", \"Country/Region\", \"date\", \"Lat\", \"Long\"]\n",
    ")\n",
    "covid_data.head()"
   ]
  },
  {
   "source": [
    "## Parse date"
   ],
   "cell_type": "markdown",
   "metadata": {}
  },
  {
   "cell_type": "code",
   "execution_count": 11,
   "metadata": {},
   "outputs": [],
   "source": [
    "covid_data[\"date\"] = pd.to_datetime(covid_data[\"date\"])"
   ]
  },
  {
   "source": [
    "## NaNs"
   ],
   "cell_type": "markdown",
   "metadata": {}
  },
  {
   "cell_type": "code",
   "execution_count": 12,
   "metadata": {},
   "outputs": [
    {
     "output_type": "execute_result",
     "data": {
      "text/plain": [
       "Province/State    75600\n",
       "Country/Region        0\n",
       "Lat                 400\n",
       "Long                400\n",
       "date                  0\n",
       "confirmed             0\n",
       "deaths                0\n",
       "recovered          8400\n",
       "dtype: int64"
      ]
     },
     "metadata": {},
     "execution_count": 12
    }
   ],
   "source": [
    "covid_data.isna().sum()"
   ]
  },
  {
   "cell_type": "code",
   "execution_count": 13,
   "metadata": {},
   "outputs": [
    {
     "output_type": "execute_result",
     "data": {
      "text/plain": [
       "Province/State    75600\n",
       "Country/Region        0\n",
       "Lat                 400\n",
       "Long                400\n",
       "date                  0\n",
       "confirmed             0\n",
       "deaths                0\n",
       "recovered             0\n",
       "dtype: int64"
      ]
     },
     "metadata": {},
     "execution_count": 13
    }
   ],
   "source": [
    "covid_data[\"recovered\"] = covid_data[\"recovered\"].fillna(0)\n",
    "covid_data.isna().sum()"
   ]
  },
  {
   "source": [
    "## Active cases"
   ],
   "cell_type": "markdown",
   "metadata": {}
  },
  {
   "cell_type": "code",
   "execution_count": 14,
   "metadata": {},
   "outputs": [
    {
     "output_type": "execute_result",
     "data": {
      "text/plain": [
       "  Province/State Country/Region       Lat       Long       date  confirmed  \\\n",
       "0            NaN    Afghanistan  33.93911  67.709953 2020-01-22          0   \n",
       "1            NaN        Albania  41.15330  20.168300 2020-01-22          0   \n",
       "2            NaN        Algeria  28.03390   1.659600 2020-01-22          0   \n",
       "3            NaN        Andorra  42.50630   1.521800 2020-01-22          0   \n",
       "4            NaN         Angola -11.20270  17.873900 2020-01-22          0   \n",
       "\n",
       "   deaths  recovered  active  \n",
       "0       0        0.0     0.0  \n",
       "1       0        0.0     0.0  \n",
       "2       0        0.0     0.0  \n",
       "3       0        0.0     0.0  \n",
       "4       0        0.0     0.0  "
      ],
      "text/html": "<div>\n<style scoped>\n    .dataframe tbody tr th:only-of-type {\n        vertical-align: middle;\n    }\n\n    .dataframe tbody tr th {\n        vertical-align: top;\n    }\n\n    .dataframe thead th {\n        text-align: right;\n    }\n</style>\n<table border=\"1\" class=\"dataframe\">\n  <thead>\n    <tr style=\"text-align: right;\">\n      <th></th>\n      <th>Province/State</th>\n      <th>Country/Region</th>\n      <th>Lat</th>\n      <th>Long</th>\n      <th>date</th>\n      <th>confirmed</th>\n      <th>deaths</th>\n      <th>recovered</th>\n      <th>active</th>\n    </tr>\n  </thead>\n  <tbody>\n    <tr>\n      <th>0</th>\n      <td>NaN</td>\n      <td>Afghanistan</td>\n      <td>33.93911</td>\n      <td>67.709953</td>\n      <td>2020-01-22</td>\n      <td>0</td>\n      <td>0</td>\n      <td>0.0</td>\n      <td>0.0</td>\n    </tr>\n    <tr>\n      <th>1</th>\n      <td>NaN</td>\n      <td>Albania</td>\n      <td>41.15330</td>\n      <td>20.168300</td>\n      <td>2020-01-22</td>\n      <td>0</td>\n      <td>0</td>\n      <td>0.0</td>\n      <td>0.0</td>\n    </tr>\n    <tr>\n      <th>2</th>\n      <td>NaN</td>\n      <td>Algeria</td>\n      <td>28.03390</td>\n      <td>1.659600</td>\n      <td>2020-01-22</td>\n      <td>0</td>\n      <td>0</td>\n      <td>0.0</td>\n      <td>0.0</td>\n    </tr>\n    <tr>\n      <th>3</th>\n      <td>NaN</td>\n      <td>Andorra</td>\n      <td>42.50630</td>\n      <td>1.521800</td>\n      <td>2020-01-22</td>\n      <td>0</td>\n      <td>0</td>\n      <td>0.0</td>\n      <td>0.0</td>\n    </tr>\n    <tr>\n      <th>4</th>\n      <td>NaN</td>\n      <td>Angola</td>\n      <td>-11.20270</td>\n      <td>17.873900</td>\n      <td>2020-01-22</td>\n      <td>0</td>\n      <td>0</td>\n      <td>0.0</td>\n      <td>0.0</td>\n    </tr>\n  </tbody>\n</table>\n</div>"
     },
     "metadata": {},
     "execution_count": 14
    }
   ],
   "source": [
    "covid_data[\"active\"] = covid_data[\"confirmed\"] - covid_data[\"deaths\"] - covid_data[\"recovered\"]\n",
    "covid_data.head()"
   ]
  },
  {
   "source": [
    "## Get last updated date"
   ],
   "cell_type": "markdown",
   "metadata": {}
  },
  {
   "cell_type": "code",
   "execution_count": 15,
   "metadata": {},
   "outputs": [
    {
     "output_type": "execute_result",
     "data": {
      "text/plain": [
       "109595   2021-02-24\n",
       "109596   2021-02-24\n",
       "109597   2021-02-24\n",
       "109598   2021-02-24\n",
       "109599   2021-02-24\n",
       "Name: date, dtype: datetime64[ns]"
      ]
     },
     "metadata": {},
     "execution_count": 15
    }
   ],
   "source": [
    "covid_data[\"date\"].tail()"
   ]
  },
  {
   "cell_type": "code",
   "execution_count": 16,
   "metadata": {},
   "outputs": [
    {
     "output_type": "execute_result",
     "data": {
      "text/plain": [
       "'February 24, 2021'"
      ]
     },
     "metadata": {},
     "execution_count": 16
    }
   ],
   "source": [
    "covid_data[\"date\"].iloc[-1].strftime(\"%B %d, %Y\")"
   ]
  },
  {
   "source": [
    "## Total confirmed cases"
   ],
   "cell_type": "markdown",
   "metadata": {}
  },
  {
   "cell_type": "code",
   "execution_count": 17,
   "metadata": {},
   "outputs": [
    {
     "output_type": "execute_result",
     "data": {
      "text/plain": [
       "        date  confirmed  deaths  recovered  active\n",
       "0 2020-01-22        557      17       30.0   510.0\n",
       "1 2020-01-23        655      18       32.0   605.0\n",
       "2 2020-01-24        941      26       39.0   876.0\n",
       "3 2020-01-25       1433      42       42.0  1349.0\n",
       "4 2020-01-26       2118      56       56.0  2006.0"
      ],
      "text/html": "<div>\n<style scoped>\n    .dataframe tbody tr th:only-of-type {\n        vertical-align: middle;\n    }\n\n    .dataframe tbody tr th {\n        vertical-align: top;\n    }\n\n    .dataframe thead th {\n        text-align: right;\n    }\n</style>\n<table border=\"1\" class=\"dataframe\">\n  <thead>\n    <tr style=\"text-align: right;\">\n      <th></th>\n      <th>date</th>\n      <th>confirmed</th>\n      <th>deaths</th>\n      <th>recovered</th>\n      <th>active</th>\n    </tr>\n  </thead>\n  <tbody>\n    <tr>\n      <th>0</th>\n      <td>2020-01-22</td>\n      <td>557</td>\n      <td>17</td>\n      <td>30.0</td>\n      <td>510.0</td>\n    </tr>\n    <tr>\n      <th>1</th>\n      <td>2020-01-23</td>\n      <td>655</td>\n      <td>18</td>\n      <td>32.0</td>\n      <td>605.0</td>\n    </tr>\n    <tr>\n      <th>2</th>\n      <td>2020-01-24</td>\n      <td>941</td>\n      <td>26</td>\n      <td>39.0</td>\n      <td>876.0</td>\n    </tr>\n    <tr>\n      <th>3</th>\n      <td>2020-01-25</td>\n      <td>1433</td>\n      <td>42</td>\n      <td>42.0</td>\n      <td>1349.0</td>\n    </tr>\n    <tr>\n      <th>4</th>\n      <td>2020-01-26</td>\n      <td>2118</td>\n      <td>56</td>\n      <td>56.0</td>\n      <td>2006.0</td>\n    </tr>\n  </tbody>\n</table>\n</div>"
     },
     "metadata": {},
     "execution_count": 17
    }
   ],
   "source": [
    "covid_data_1 = covid_data.groupby([\"date\"])[[\"confirmed\", \"deaths\", \"recovered\", \"active\"]].sum().reset_index()\n",
    "covid_data_1.head()"
   ]
  },
  {
   "cell_type": "code",
   "execution_count": 18,
   "metadata": {},
   "outputs": [
    {
     "output_type": "execute_result",
     "data": {
      "text/plain": [
       "112554301"
      ]
     },
     "metadata": {},
     "execution_count": 18
    }
   ],
   "source": [
    "covid_data_1[\"confirmed\"].iloc[-1]"
   ]
  },
  {
   "source": [
    "## Shift values"
   ],
   "cell_type": "markdown",
   "metadata": {}
  },
  {
   "cell_type": "code",
   "execution_count": 20,
   "metadata": {},
   "outputs": [
    {
     "output_type": "execute_result",
     "data": {
      "text/plain": [
       "     index Country/Region       date  confirmed  daily_confirmed\n",
       "0      183        Uruguay 2020-01-22          0              NaN\n",
       "1      375        Uruguay 2020-01-23          0              0.0\n",
       "2      567        Uruguay 2020-01-24          0              0.0\n",
       "3      759        Uruguay 2020-01-25          0              0.0\n",
       "4      951        Uruguay 2020-01-26          0              0.0\n",
       "..     ...            ...        ...        ...              ...\n",
       "395  76023        Uruguay 2021-02-20      52163            786.0\n",
       "396  76215        Uruguay 2021-02-21      52815            652.0\n",
       "397  76407        Uruguay 2021-02-22      53310            495.0\n",
       "398  76599        Uruguay 2021-02-23      53973            663.0\n",
       "399  76791        Uruguay 2021-02-24      54874            901.0\n",
       "\n",
       "[400 rows x 5 columns]"
      ],
      "text/html": "<div>\n<style scoped>\n    .dataframe tbody tr th:only-of-type {\n        vertical-align: middle;\n    }\n\n    .dataframe tbody tr th {\n        vertical-align: top;\n    }\n\n    .dataframe thead th {\n        text-align: right;\n    }\n</style>\n<table border=\"1\" class=\"dataframe\">\n  <thead>\n    <tr style=\"text-align: right;\">\n      <th></th>\n      <th>index</th>\n      <th>Country/Region</th>\n      <th>date</th>\n      <th>confirmed</th>\n      <th>daily_confirmed</th>\n    </tr>\n  </thead>\n  <tbody>\n    <tr>\n      <th>0</th>\n      <td>183</td>\n      <td>Uruguay</td>\n      <td>2020-01-22</td>\n      <td>0</td>\n      <td>NaN</td>\n    </tr>\n    <tr>\n      <th>1</th>\n      <td>375</td>\n      <td>Uruguay</td>\n      <td>2020-01-23</td>\n      <td>0</td>\n      <td>0.0</td>\n    </tr>\n    <tr>\n      <th>2</th>\n      <td>567</td>\n      <td>Uruguay</td>\n      <td>2020-01-24</td>\n      <td>0</td>\n      <td>0.0</td>\n    </tr>\n    <tr>\n      <th>3</th>\n      <td>759</td>\n      <td>Uruguay</td>\n      <td>2020-01-25</td>\n      <td>0</td>\n      <td>0.0</td>\n    </tr>\n    <tr>\n      <th>4</th>\n      <td>951</td>\n      <td>Uruguay</td>\n      <td>2020-01-26</td>\n      <td>0</td>\n      <td>0.0</td>\n    </tr>\n    <tr>\n      <th>...</th>\n      <td>...</td>\n      <td>...</td>\n      <td>...</td>\n      <td>...</td>\n      <td>...</td>\n    </tr>\n    <tr>\n      <th>395</th>\n      <td>76023</td>\n      <td>Uruguay</td>\n      <td>2021-02-20</td>\n      <td>52163</td>\n      <td>786.0</td>\n    </tr>\n    <tr>\n      <th>396</th>\n      <td>76215</td>\n      <td>Uruguay</td>\n      <td>2021-02-21</td>\n      <td>52815</td>\n      <td>652.0</td>\n    </tr>\n    <tr>\n      <th>397</th>\n      <td>76407</td>\n      <td>Uruguay</td>\n      <td>2021-02-22</td>\n      <td>53310</td>\n      <td>495.0</td>\n    </tr>\n    <tr>\n      <th>398</th>\n      <td>76599</td>\n      <td>Uruguay</td>\n      <td>2021-02-23</td>\n      <td>53973</td>\n      <td>663.0</td>\n    </tr>\n    <tr>\n      <th>399</th>\n      <td>76791</td>\n      <td>Uruguay</td>\n      <td>2021-02-24</td>\n      <td>54874</td>\n      <td>901.0</td>\n    </tr>\n  </tbody>\n</table>\n<p>400 rows × 5 columns</p>\n</div>"
     },
     "metadata": {},
     "execution_count": 20
    }
   ],
   "source": [
    "covid_data_2 = covid_data.groupby([\"date\", \"Country/Region\"])[[\"confirmed\", \"deaths\", \"recovered\", \"active\"]].sum().reset_index()\n",
    "covid_data_3 = covid_data_2[covid_data_2[\"Country/Region\"] == \"Uruguay\"][[\"Country/Region\", \"date\", \"confirmed\"]].reset_index()\n",
    "covid_data_3[\"daily_confirmed\"] = covid_data_3[\"confirmed\"] - covid_data_3[\"confirmed\"].shift(1)\n",
    "covid_data_3"
   ]
  },
  {
   "source": [
    "## Rolling avg"
   ],
   "cell_type": "markdown",
   "metadata": {}
  },
  {
   "cell_type": "code",
   "execution_count": 22,
   "metadata": {},
   "outputs": [
    {
     "output_type": "execute_result",
     "data": {
      "text/plain": [
       "     index Country/Region       date  confirmed  daily_confirmed  rolling_avg\n",
       "0      183        Uruguay 2020-01-22          0              NaN          NaN\n",
       "1      375        Uruguay 2020-01-23          0              0.0          NaN\n",
       "2      567        Uruguay 2020-01-24          0              0.0          NaN\n",
       "3      759        Uruguay 2020-01-25          0              0.0          NaN\n",
       "4      951        Uruguay 2020-01-26          0              0.0          NaN\n",
       "..     ...            ...        ...        ...              ...          ...\n",
       "395  76023        Uruguay 2021-02-20      52163            786.0   529.142857\n",
       "396  76215        Uruguay 2021-02-21      52815            652.0   558.000000\n",
       "397  76407        Uruguay 2021-02-22      53310            495.0   564.285714\n",
       "398  76599        Uruguay 2021-02-23      53973            663.0   606.857143\n",
       "399  76791        Uruguay 2021-02-24      54874            901.0   666.571429\n",
       "\n",
       "[400 rows x 6 columns]"
      ],
      "text/html": "<div>\n<style scoped>\n    .dataframe tbody tr th:only-of-type {\n        vertical-align: middle;\n    }\n\n    .dataframe tbody tr th {\n        vertical-align: top;\n    }\n\n    .dataframe thead th {\n        text-align: right;\n    }\n</style>\n<table border=\"1\" class=\"dataframe\">\n  <thead>\n    <tr style=\"text-align: right;\">\n      <th></th>\n      <th>index</th>\n      <th>Country/Region</th>\n      <th>date</th>\n      <th>confirmed</th>\n      <th>daily_confirmed</th>\n      <th>rolling_avg</th>\n    </tr>\n  </thead>\n  <tbody>\n    <tr>\n      <th>0</th>\n      <td>183</td>\n      <td>Uruguay</td>\n      <td>2020-01-22</td>\n      <td>0</td>\n      <td>NaN</td>\n      <td>NaN</td>\n    </tr>\n    <tr>\n      <th>1</th>\n      <td>375</td>\n      <td>Uruguay</td>\n      <td>2020-01-23</td>\n      <td>0</td>\n      <td>0.0</td>\n      <td>NaN</td>\n    </tr>\n    <tr>\n      <th>2</th>\n      <td>567</td>\n      <td>Uruguay</td>\n      <td>2020-01-24</td>\n      <td>0</td>\n      <td>0.0</td>\n      <td>NaN</td>\n    </tr>\n    <tr>\n      <th>3</th>\n      <td>759</td>\n      <td>Uruguay</td>\n      <td>2020-01-25</td>\n      <td>0</td>\n      <td>0.0</td>\n      <td>NaN</td>\n    </tr>\n    <tr>\n      <th>4</th>\n      <td>951</td>\n      <td>Uruguay</td>\n      <td>2020-01-26</td>\n      <td>0</td>\n      <td>0.0</td>\n      <td>NaN</td>\n    </tr>\n    <tr>\n      <th>...</th>\n      <td>...</td>\n      <td>...</td>\n      <td>...</td>\n      <td>...</td>\n      <td>...</td>\n      <td>...</td>\n    </tr>\n    <tr>\n      <th>395</th>\n      <td>76023</td>\n      <td>Uruguay</td>\n      <td>2021-02-20</td>\n      <td>52163</td>\n      <td>786.0</td>\n      <td>529.142857</td>\n    </tr>\n    <tr>\n      <th>396</th>\n      <td>76215</td>\n      <td>Uruguay</td>\n      <td>2021-02-21</td>\n      <td>52815</td>\n      <td>652.0</td>\n      <td>558.000000</td>\n    </tr>\n    <tr>\n      <th>397</th>\n      <td>76407</td>\n      <td>Uruguay</td>\n      <td>2021-02-22</td>\n      <td>53310</td>\n      <td>495.0</td>\n      <td>564.285714</td>\n    </tr>\n    <tr>\n      <th>398</th>\n      <td>76599</td>\n      <td>Uruguay</td>\n      <td>2021-02-23</td>\n      <td>53973</td>\n      <td>663.0</td>\n      <td>606.857143</td>\n    </tr>\n    <tr>\n      <th>399</th>\n      <td>76791</td>\n      <td>Uruguay</td>\n      <td>2021-02-24</td>\n      <td>54874</td>\n      <td>901.0</td>\n      <td>666.571429</td>\n    </tr>\n  </tbody>\n</table>\n<p>400 rows × 6 columns</p>\n</div>"
     },
     "metadata": {},
     "execution_count": 22
    }
   ],
   "source": [
    "covid_data_3[\"rolling_avg\"] = covid_data_3[\"daily_confirmed\"].rolling(window = 7).mean()\n",
    "covid_data_3"
   ]
  },
  {
   "source": [
    "## Add lat and long"
   ],
   "cell_type": "markdown",
   "metadata": {}
  },
  {
   "cell_type": "code",
   "execution_count": 24,
   "metadata": {},
   "outputs": [
    {
     "output_type": "execute_result",
     "data": {
      "text/plain": [
       "         Lat      Long  Country/Region  confirmed   deaths    recovered  \\\n",
       "0   -51.7963  -59.5236  United Kingdom       5993        0       5186.0   \n",
       "1   -42.8821  147.3272       Australia      74324     4084      66215.0   \n",
       "2   -40.9006  174.8860     New Zealand     597020     7366     551865.0   \n",
       "3   -38.4161  -63.6167       Argentina  251978796  6415070  213693910.0   \n",
       "4   -37.8136  144.9631       Australia    4420325   155451    3919600.0   \n",
       "..       ...       ...             ...        ...      ...          ...   \n",
       "267  64.2823 -135.0000          Canada       9262      118          0.0   \n",
       "268  64.8255 -124.8457          Canada       3985        0          0.0   \n",
       "269  64.9631  -19.0208         Iceland    1136185     5269    1038628.0   \n",
       "270  70.2998  -83.1076          Canada      25352       67          0.0   \n",
       "271  71.7069  -42.6043         Denmark       5720        0       5402.0   \n",
       "\n",
       "         active  \n",
       "0         807.0  \n",
       "1        4025.0  \n",
       "2       37789.0  \n",
       "3    31869816.0  \n",
       "4      345274.0  \n",
       "..          ...  \n",
       "267      9144.0  \n",
       "268      3985.0  \n",
       "269     92288.0  \n",
       "270     25285.0  \n",
       "271       318.0  \n",
       "\n",
       "[272 rows x 7 columns]"
      ],
      "text/html": "<div>\n<style scoped>\n    .dataframe tbody tr th:only-of-type {\n        vertical-align: middle;\n    }\n\n    .dataframe tbody tr th {\n        vertical-align: top;\n    }\n\n    .dataframe thead th {\n        text-align: right;\n    }\n</style>\n<table border=\"1\" class=\"dataframe\">\n  <thead>\n    <tr style=\"text-align: right;\">\n      <th></th>\n      <th>Lat</th>\n      <th>Long</th>\n      <th>Country/Region</th>\n      <th>confirmed</th>\n      <th>deaths</th>\n      <th>recovered</th>\n      <th>active</th>\n    </tr>\n  </thead>\n  <tbody>\n    <tr>\n      <th>0</th>\n      <td>-51.7963</td>\n      <td>-59.5236</td>\n      <td>United Kingdom</td>\n      <td>5993</td>\n      <td>0</td>\n      <td>5186.0</td>\n      <td>807.0</td>\n    </tr>\n    <tr>\n      <th>1</th>\n      <td>-42.8821</td>\n      <td>147.3272</td>\n      <td>Australia</td>\n      <td>74324</td>\n      <td>4084</td>\n      <td>66215.0</td>\n      <td>4025.0</td>\n    </tr>\n    <tr>\n      <th>2</th>\n      <td>-40.9006</td>\n      <td>174.8860</td>\n      <td>New Zealand</td>\n      <td>597020</td>\n      <td>7366</td>\n      <td>551865.0</td>\n      <td>37789.0</td>\n    </tr>\n    <tr>\n      <th>3</th>\n      <td>-38.4161</td>\n      <td>-63.6167</td>\n      <td>Argentina</td>\n      <td>251978796</td>\n      <td>6415070</td>\n      <td>213693910.0</td>\n      <td>31869816.0</td>\n    </tr>\n    <tr>\n      <th>4</th>\n      <td>-37.8136</td>\n      <td>144.9631</td>\n      <td>Australia</td>\n      <td>4420325</td>\n      <td>155451</td>\n      <td>3919600.0</td>\n      <td>345274.0</td>\n    </tr>\n    <tr>\n      <th>...</th>\n      <td>...</td>\n      <td>...</td>\n      <td>...</td>\n      <td>...</td>\n      <td>...</td>\n      <td>...</td>\n      <td>...</td>\n    </tr>\n    <tr>\n      <th>267</th>\n      <td>64.2823</td>\n      <td>-135.0000</td>\n      <td>Canada</td>\n      <td>9262</td>\n      <td>118</td>\n      <td>0.0</td>\n      <td>9144.0</td>\n    </tr>\n    <tr>\n      <th>268</th>\n      <td>64.8255</td>\n      <td>-124.8457</td>\n      <td>Canada</td>\n      <td>3985</td>\n      <td>0</td>\n      <td>0.0</td>\n      <td>3985.0</td>\n    </tr>\n    <tr>\n      <th>269</th>\n      <td>64.9631</td>\n      <td>-19.0208</td>\n      <td>Iceland</td>\n      <td>1136185</td>\n      <td>5269</td>\n      <td>1038628.0</td>\n      <td>92288.0</td>\n    </tr>\n    <tr>\n      <th>270</th>\n      <td>70.2998</td>\n      <td>-83.1076</td>\n      <td>Canada</td>\n      <td>25352</td>\n      <td>67</td>\n      <td>0.0</td>\n      <td>25285.0</td>\n    </tr>\n    <tr>\n      <th>271</th>\n      <td>71.7069</td>\n      <td>-42.6043</td>\n      <td>Denmark</td>\n      <td>5720</td>\n      <td>0</td>\n      <td>5402.0</td>\n      <td>318.0</td>\n    </tr>\n  </tbody>\n</table>\n<p>272 rows × 7 columns</p>\n</div>"
     },
     "metadata": {},
     "execution_count": 24
    }
   ],
   "source": [
    "covid_data_4 = covid_data.groupby([\"Lat\", \"Long\", \"Country/Region\"])[[\"confirmed\", \"deaths\", \"recovered\", \"active\"]].sum().reset_index()\n",
    "covid_data_4"
   ]
  },
  {
   "source": [
    "## Dict of list"
   ],
   "cell_type": "markdown",
   "metadata": {}
  },
  {
   "cell_type": "code",
   "execution_count": 25,
   "metadata": {},
   "outputs": [
    {
     "output_type": "execute_result",
     "data": {
      "text/plain": [
       "            Country/Region        Lat        Long\n",
       "0              Afghanistan  33.939110   67.709953\n",
       "1                  Albania  41.153300   20.168300\n",
       "2                  Algeria  28.033900    1.659600\n",
       "3                  Andorra  42.506300    1.521800\n",
       "4                   Angola -11.202700   17.873900\n",
       "...                    ...        ...         ...\n",
       "109595             Vietnam  14.058324  108.277199\n",
       "109596  West Bank and Gaza  31.952200   35.233200\n",
       "109597               Yemen  15.552727   48.516388\n",
       "109598              Zambia -13.133897   27.849332\n",
       "109599            Zimbabwe -19.015438   29.154857\n",
       "\n",
       "[109600 rows x 3 columns]"
      ],
      "text/html": "<div>\n<style scoped>\n    .dataframe tbody tr th:only-of-type {\n        vertical-align: middle;\n    }\n\n    .dataframe tbody tr th {\n        vertical-align: top;\n    }\n\n    .dataframe thead th {\n        text-align: right;\n    }\n</style>\n<table border=\"1\" class=\"dataframe\">\n  <thead>\n    <tr style=\"text-align: right;\">\n      <th></th>\n      <th>Country/Region</th>\n      <th>Lat</th>\n      <th>Long</th>\n    </tr>\n  </thead>\n  <tbody>\n    <tr>\n      <th>0</th>\n      <td>Afghanistan</td>\n      <td>33.939110</td>\n      <td>67.709953</td>\n    </tr>\n    <tr>\n      <th>1</th>\n      <td>Albania</td>\n      <td>41.153300</td>\n      <td>20.168300</td>\n    </tr>\n    <tr>\n      <th>2</th>\n      <td>Algeria</td>\n      <td>28.033900</td>\n      <td>1.659600</td>\n    </tr>\n    <tr>\n      <th>3</th>\n      <td>Andorra</td>\n      <td>42.506300</td>\n      <td>1.521800</td>\n    </tr>\n    <tr>\n      <th>4</th>\n      <td>Angola</td>\n      <td>-11.202700</td>\n      <td>17.873900</td>\n    </tr>\n    <tr>\n      <th>...</th>\n      <td>...</td>\n      <td>...</td>\n      <td>...</td>\n    </tr>\n    <tr>\n      <th>109595</th>\n      <td>Vietnam</td>\n      <td>14.058324</td>\n      <td>108.277199</td>\n    </tr>\n    <tr>\n      <th>109596</th>\n      <td>West Bank and Gaza</td>\n      <td>31.952200</td>\n      <td>35.233200</td>\n    </tr>\n    <tr>\n      <th>109597</th>\n      <td>Yemen</td>\n      <td>15.552727</td>\n      <td>48.516388</td>\n    </tr>\n    <tr>\n      <th>109598</th>\n      <td>Zambia</td>\n      <td>-13.133897</td>\n      <td>27.849332</td>\n    </tr>\n    <tr>\n      <th>109599</th>\n      <td>Zimbabwe</td>\n      <td>-19.015438</td>\n      <td>29.154857</td>\n    </tr>\n  </tbody>\n</table>\n<p>109600 rows × 3 columns</p>\n</div>"
     },
     "metadata": {},
     "execution_count": 25
    }
   ],
   "source": [
    "covid_data_list = covid_data[[\"Country/Region\", \"Lat\", \"Long\"]]\n",
    "covid_data_list"
   ]
  },
  {
   "cell_type": "code",
   "execution_count": 27,
   "metadata": {},
   "outputs": [
    {
     "output_type": "execute_result",
     "data": {
      "text/plain": [
       "{'Afghanistan': {'Lat': 33.93911, 'Long': 67.709953},\n",
       " 'Albania': {'Lat': 41.1533, 'Long': 20.1683},\n",
       " 'Algeria': {'Lat': 28.0339, 'Long': 1.6596},\n",
       " 'Andorra': {'Lat': 42.5063, 'Long': 1.5218},\n",
       " 'Angola': {'Lat': -11.2027, 'Long': 17.8739},\n",
       " 'Antigua and Barbuda': {'Lat': 17.0608, 'Long': -61.7964},\n",
       " 'Argentina': {'Lat': -38.4161, 'Long': -63.6167},\n",
       " 'Armenia': {'Lat': 40.0691, 'Long': 45.0382},\n",
       " 'Australia': {'Lat': -31.9505, 'Long': 115.8605},\n",
       " 'Austria': {'Lat': 47.5162, 'Long': 14.5501},\n",
       " 'Azerbaijan': {'Lat': 40.1431, 'Long': 47.5769},\n",
       " 'Bahamas': {'Lat': 25.025885, 'Long': -78.035889},\n",
       " 'Bahrain': {'Lat': 26.0275, 'Long': 50.55},\n",
       " 'Bangladesh': {'Lat': 23.685, 'Long': 90.3563},\n",
       " 'Barbados': {'Lat': 13.1939, 'Long': -59.5432},\n",
       " 'Belarus': {'Lat': 53.7098, 'Long': 27.9534},\n",
       " 'Belgium': {'Lat': 50.8333, 'Long': 4.469936},\n",
       " 'Belize': {'Lat': 17.1899, 'Long': -88.4976},\n",
       " 'Benin': {'Lat': 9.3077, 'Long': 2.3158},\n",
       " 'Bhutan': {'Lat': 27.5142, 'Long': 90.4336},\n",
       " 'Bolivia': {'Lat': -16.2902, 'Long': -63.5887},\n",
       " 'Bosnia and Herzegovina': {'Lat': 43.9159, 'Long': 17.6791},\n",
       " 'Botswana': {'Lat': -22.3285, 'Long': 24.6849},\n",
       " 'Brazil': {'Lat': -14.235, 'Long': -51.9253},\n",
       " 'Brunei': {'Lat': 4.5353, 'Long': 114.7277},\n",
       " 'Bulgaria': {'Lat': 42.7339, 'Long': 25.4858},\n",
       " 'Burkina Faso': {'Lat': 12.2383, 'Long': -1.5616},\n",
       " 'Burma': {'Lat': 21.9162, 'Long': 95.956},\n",
       " 'Burundi': {'Lat': -3.3731, 'Long': 29.9189},\n",
       " 'Cabo Verde': {'Lat': 16.5388, 'Long': -23.0418},\n",
       " 'Cambodia': {'Lat': 11.55, 'Long': 104.9167},\n",
       " 'Cameroon': {'Lat': 3.8480000000000003, 'Long': 11.5021},\n",
       " 'Canada': {'Lat': 64.2823, 'Long': -135.0},\n",
       " 'Central African Republic': {'Lat': 6.6111, 'Long': 20.9394},\n",
       " 'Chad': {'Lat': 15.4542, 'Long': 18.7322},\n",
       " 'Chile': {'Lat': -35.6751, 'Long': -71.543},\n",
       " 'China': {'Lat': 29.1832, 'Long': 120.0934},\n",
       " 'Colombia': {'Lat': 4.5709, 'Long': -74.2973},\n",
       " 'Comoros': {'Lat': -11.6455, 'Long': 43.3333},\n",
       " 'Congo (Brazzaville)': {'Lat': -0.228, 'Long': 15.8277},\n",
       " 'Congo (Kinshasa)': {'Lat': -4.0383, 'Long': 21.7587},\n",
       " 'Costa Rica': {'Lat': 9.7489, 'Long': -83.7534},\n",
       " \"Cote d'Ivoire\": {'Lat': 7.54, 'Long': -5.5471},\n",
       " 'Croatia': {'Lat': 45.1, 'Long': 15.2},\n",
       " 'Cuba': {'Lat': 21.521757, 'Long': -77.78116700000001},\n",
       " 'Cyprus': {'Lat': 35.1264, 'Long': 33.4299},\n",
       " 'Czechia': {'Lat': 49.8175, 'Long': 15.472999999999999},\n",
       " 'Denmark': {'Lat': 56.2639, 'Long': 9.5018},\n",
       " 'Diamond Princess': {'Lat': 0.0, 'Long': 0.0},\n",
       " 'Djibouti': {'Lat': 11.8251, 'Long': 42.5903},\n",
       " 'Dominica': {'Lat': 15.415, 'Long': -61.371},\n",
       " 'Dominican Republic': {'Lat': 18.7357, 'Long': -70.1627},\n",
       " 'Ecuador': {'Lat': -1.8312, 'Long': -78.1834},\n",
       " 'Egypt': {'Lat': 26.820553000000004, 'Long': 30.802497999999996},\n",
       " 'El Salvador': {'Lat': 13.7942, 'Long': -88.8965},\n",
       " 'Equatorial Guinea': {'Lat': 1.6508, 'Long': 10.2679},\n",
       " 'Eritrea': {'Lat': 15.1794, 'Long': 39.7823},\n",
       " 'Estonia': {'Lat': 58.5953, 'Long': 25.0136},\n",
       " 'Eswatini': {'Lat': -26.5225, 'Long': 31.4659},\n",
       " 'Ethiopia': {'Lat': 9.145, 'Long': 40.4897},\n",
       " 'Fiji': {'Lat': -17.7134, 'Long': 178.065},\n",
       " 'Finland': {'Lat': 61.92411, 'Long': 25.748151},\n",
       " 'France': {'Lat': 46.2276, 'Long': 2.2137},\n",
       " 'Gabon': {'Lat': -0.8037, 'Long': 11.6094},\n",
       " 'Gambia': {'Lat': 13.4432, 'Long': -15.3101},\n",
       " 'Georgia': {'Lat': 42.3154, 'Long': 43.3569},\n",
       " 'Germany': {'Lat': 51.165690999999995, 'Long': 10.451526},\n",
       " 'Ghana': {'Lat': 7.9465, 'Long': -1.0232},\n",
       " 'Greece': {'Lat': 39.0742, 'Long': 21.8243},\n",
       " 'Grenada': {'Lat': 12.1165, 'Long': -61.678999999999995},\n",
       " 'Guatemala': {'Lat': 15.7835, 'Long': -90.2308},\n",
       " 'Guinea': {'Lat': 9.9456, 'Long': -9.6966},\n",
       " 'Guinea-Bissau': {'Lat': 11.8037, 'Long': -15.1804},\n",
       " 'Guyana': {'Lat': 4.860416000000001, 'Long': -58.93018000000001},\n",
       " 'Haiti': {'Lat': 18.9712, 'Long': -72.2852},\n",
       " 'Holy See': {'Lat': 41.9029, 'Long': 12.4534},\n",
       " 'Honduras': {'Lat': 15.2, 'Long': -86.2419},\n",
       " 'Hungary': {'Lat': 47.1625, 'Long': 19.5033},\n",
       " 'Iceland': {'Lat': 64.9631, 'Long': -19.0208},\n",
       " 'India': {'Lat': 20.593684, 'Long': 78.96288},\n",
       " 'Indonesia': {'Lat': -0.7893, 'Long': 113.9213},\n",
       " 'Iran': {'Lat': 32.427908, 'Long': 53.68804599999999},\n",
       " 'Iraq': {'Lat': 33.223191, 'Long': 43.679291},\n",
       " 'Ireland': {'Lat': 53.1424, 'Long': -7.6921},\n",
       " 'Israel': {'Lat': 31.046051000000002, 'Long': 34.851612},\n",
       " 'Italy': {'Lat': 41.87194, 'Long': 12.56738},\n",
       " 'Jamaica': {'Lat': 18.1096, 'Long': -77.2975},\n",
       " 'Japan': {'Lat': 36.204824, 'Long': 138.252924},\n",
       " 'Jordan': {'Lat': 31.24, 'Long': 36.51},\n",
       " 'Kazakhstan': {'Lat': 48.0196, 'Long': 66.9237},\n",
       " 'Kenya': {'Lat': -0.0236, 'Long': 37.9062},\n",
       " 'Korea, South': {'Lat': 35.907757000000004, 'Long': 127.766922},\n",
       " 'Kosovo': {'Lat': 42.602636, 'Long': 20.902977},\n",
       " 'Kuwait': {'Lat': 29.311659999999996, 'Long': 47.481766},\n",
       " 'Kyrgyzstan': {'Lat': 41.20438, 'Long': 74.766098},\n",
       " 'Laos': {'Lat': 19.856270000000002, 'Long': 102.495496},\n",
       " 'Latvia': {'Lat': 56.8796, 'Long': 24.6032},\n",
       " 'Lebanon': {'Lat': 33.8547, 'Long': 35.8623},\n",
       " 'Lesotho': {'Lat': -29.61, 'Long': 28.2336},\n",
       " 'Liberia': {'Lat': 6.4280550000000005, 'Long': -9.429499},\n",
       " 'Libya': {'Lat': 26.3351, 'Long': 17.228331},\n",
       " 'Liechtenstein': {'Lat': 47.14, 'Long': 9.55},\n",
       " 'Lithuania': {'Lat': 55.1694, 'Long': 23.8813},\n",
       " 'Luxembourg': {'Lat': 49.8153, 'Long': 6.1296},\n",
       " 'MS Zaandam': {'Lat': 0.0, 'Long': 0.0},\n",
       " 'Madagascar': {'Lat': -18.766947000000002, 'Long': 46.869107},\n",
       " 'Malawi': {'Lat': -13.2543, 'Long': 34.3015},\n",
       " 'Malaysia': {'Lat': 4.210483999999999, 'Long': 101.97576600000001},\n",
       " 'Maldives': {'Lat': 3.2028, 'Long': 73.2207},\n",
       " 'Mali': {'Lat': 17.570692, 'Long': -3.9961660000000006},\n",
       " 'Malta': {'Lat': 35.9375, 'Long': 14.3754},\n",
       " 'Marshall Islands': {'Lat': 7.1315, 'Long': 171.1845},\n",
       " 'Mauritania': {'Lat': 21.0079, 'Long': -10.9408},\n",
       " 'Mauritius': {'Lat': -20.348404000000002, 'Long': 57.552152},\n",
       " 'Mexico': {'Lat': 23.6345, 'Long': -102.5528},\n",
       " 'Micronesia': {'Lat': 7.4256, 'Long': 150.5508},\n",
       " 'Moldova': {'Lat': 47.4116, 'Long': 28.3699},\n",
       " 'Monaco': {'Lat': 43.7333, 'Long': 7.4167},\n",
       " 'Mongolia': {'Lat': 46.8625, 'Long': 103.8467},\n",
       " 'Montenegro': {'Lat': 42.708678000000006, 'Long': 19.37439},\n",
       " 'Morocco': {'Lat': 31.7917, 'Long': -7.0926},\n",
       " 'Mozambique': {'Lat': -18.665695, 'Long': 35.529562},\n",
       " 'Namibia': {'Lat': -22.9576, 'Long': 18.4904},\n",
       " 'Nepal': {'Lat': 28.1667, 'Long': 84.25},\n",
       " 'Netherlands': {'Lat': 52.1326, 'Long': 5.2913},\n",
       " 'New Zealand': {'Lat': -40.9006, 'Long': 174.886},\n",
       " 'Nicaragua': {'Lat': 12.865416, 'Long': -85.207229},\n",
       " 'Niger': {'Lat': 17.607789, 'Long': 8.081666},\n",
       " 'Nigeria': {'Lat': 9.082, 'Long': 8.6753},\n",
       " 'North Macedonia': {'Lat': 41.6086, 'Long': 21.7453},\n",
       " 'Norway': {'Lat': 60.472, 'Long': 8.4689},\n",
       " 'Oman': {'Lat': 21.512583, 'Long': 55.923255000000005},\n",
       " 'Pakistan': {'Lat': 30.3753, 'Long': 69.3451},\n",
       " 'Panama': {'Lat': 8.538, 'Long': -80.7821},\n",
       " 'Papua New Guinea': {'Lat': -6.314993, 'Long': 143.95555},\n",
       " 'Paraguay': {'Lat': -23.4425, 'Long': -58.4438},\n",
       " 'Peru': {'Lat': -9.19, 'Long': -75.0152},\n",
       " 'Philippines': {'Lat': 12.879721, 'Long': 121.77401699999999},\n",
       " 'Poland': {'Lat': 51.9194, 'Long': 19.1451},\n",
       " 'Portugal': {'Lat': 39.3999, 'Long': -8.2245},\n",
       " 'Qatar': {'Lat': 25.3548, 'Long': 51.1839},\n",
       " 'Romania': {'Lat': 45.9432, 'Long': 24.9668},\n",
       " 'Russia': {'Lat': 61.52401, 'Long': 105.31875600000001},\n",
       " 'Rwanda': {'Lat': -1.9403, 'Long': 29.8739},\n",
       " 'Saint Kitts and Nevis': {'Lat': 17.357822, 'Long': -62.782998},\n",
       " 'Saint Lucia': {'Lat': 13.9094, 'Long': -60.9789},\n",
       " 'Saint Vincent and the Grenadines': {'Lat': 12.9843, 'Long': -61.2872},\n",
       " 'Samoa': {'Lat': -13.759, 'Long': -172.1046},\n",
       " 'San Marino': {'Lat': 43.9424, 'Long': 12.4578},\n",
       " 'Sao Tome and Principe': {'Lat': 0.1864, 'Long': 6.6131},\n",
       " 'Saudi Arabia': {'Lat': 23.885942, 'Long': 45.079162},\n",
       " 'Senegal': {'Lat': 14.4974, 'Long': -14.4524},\n",
       " 'Serbia': {'Lat': 44.0165, 'Long': 21.0059},\n",
       " 'Seychelles': {'Lat': -4.6796, 'Long': 55.492},\n",
       " 'Sierra Leone': {'Lat': 8.460555000000001, 'Long': -11.779889},\n",
       " 'Singapore': {'Lat': 1.2833, 'Long': 103.8333},\n",
       " 'Slovakia': {'Lat': 48.669, 'Long': 19.699},\n",
       " 'Slovenia': {'Lat': 46.1512, 'Long': 14.9955},\n",
       " 'Solomon Islands': {'Lat': -9.6457, 'Long': 160.1562},\n",
       " 'Somalia': {'Lat': 5.152149, 'Long': 46.199616},\n",
       " 'South Africa': {'Lat': -30.5595, 'Long': 22.9375},\n",
       " 'South Sudan': {'Lat': 6.877000000000001, 'Long': 31.307},\n",
       " 'Spain': {'Lat': 40.463667, 'Long': -3.7492199999999998},\n",
       " 'Sri Lanka': {'Lat': 7.873054, 'Long': 80.77179699999999},\n",
       " 'Sudan': {'Lat': 12.8628, 'Long': 30.2176},\n",
       " 'Suriname': {'Lat': 3.9193, 'Long': -56.0278},\n",
       " 'Sweden': {'Lat': 60.128161, 'Long': 18.643501},\n",
       " 'Switzerland': {'Lat': 46.8182, 'Long': 8.2275},\n",
       " 'Syria': {'Lat': 34.802075, 'Long': 38.996815000000005},\n",
       " 'Taiwan*': {'Lat': 23.7, 'Long': 121.0},\n",
       " 'Tajikistan': {'Lat': 38.861, 'Long': 71.2761},\n",
       " 'Tanzania': {'Lat': -6.369028, 'Long': 34.888822},\n",
       " 'Thailand': {'Lat': 15.870032, 'Long': 100.992541},\n",
       " 'Timor-Leste': {'Lat': -8.874217, 'Long': 125.727539},\n",
       " 'Togo': {'Lat': 8.6195, 'Long': 0.8248},\n",
       " 'Trinidad and Tobago': {'Lat': 10.6918, 'Long': -61.2225},\n",
       " 'Tunisia': {'Lat': 33.886917, 'Long': 9.537499},\n",
       " 'Turkey': {'Lat': 38.9637, 'Long': 35.2433},\n",
       " 'US': {'Lat': 40.0, 'Long': -100.0},\n",
       " 'Uganda': {'Lat': 1.373333, 'Long': 32.290275},\n",
       " 'Ukraine': {'Lat': 48.3794, 'Long': 31.1656},\n",
       " 'United Arab Emirates': {'Lat': 23.424076, 'Long': 53.847818000000004},\n",
       " 'United Kingdom': {'Lat': 55.3781, 'Long': -3.4360000000000004},\n",
       " 'Uruguay': {'Lat': -32.5228, 'Long': -55.7658},\n",
       " 'Uzbekistan': {'Lat': 41.377491, 'Long': 64.585262},\n",
       " 'Vanuatu': {'Lat': -15.3767, 'Long': 166.9592},\n",
       " 'Venezuela': {'Lat': 6.4238, 'Long': -66.5897},\n",
       " 'Vietnam': {'Lat': 14.058323999999999, 'Long': 108.277199},\n",
       " 'West Bank and Gaza': {'Lat': 31.9522, 'Long': 35.2332},\n",
       " 'Yemen': {'Lat': 15.552726999999999, 'Long': 48.516388},\n",
       " 'Zambia': {'Lat': -13.133897, 'Long': 27.849332},\n",
       " 'Zimbabwe': {'Lat': -19.015438, 'Long': 29.154857}}"
      ]
     },
     "metadata": {},
     "execution_count": 27
    }
   ],
   "source": [
    "dict_of_locations = covid_data_list.set_index(\"Country/Region\")[[\"Lat\", \"Long\"]].T.to_dict(\"dict\")\n",
    "dict_of_locations"
   ]
  }
 ]
}